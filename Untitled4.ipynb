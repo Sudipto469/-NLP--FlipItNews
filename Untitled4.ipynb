{
 "cells": [
  {
   "cell_type": "markdown",
   "id": "2683b9a8",
   "metadata": {},
   "source": [
    "<a href = https://www.analyticsvidhya.com/blog/2021/12/text-classification-of-news-articles/> reference material </a>\n",
    "\n",
    "<a href = https://www.dataquest.io/blog/how-to-clean-and-prepare-your-data-for-analysis/> data preprocessing </a>\n",
    "\n",
    "<a href = https://towardsdatascience.com/elegant-text-pre-processing-with-nltk-in-sklearn-pipeline-d6fe18b91eb8> sklearn pipeline </a>\n",
    "\n",
    "<a href = https://kavita-ganesan.com/tfidftransformer-tfidfvectorizer-usage-differences/ > vectorizer </a>"
   ]
  },
  {
   "cell_type": "code",
   "execution_count": 92,
   "id": "6d7000e7",
   "metadata": {},
   "outputs": [
    {
     "name": "stdout",
     "output_type": "stream",
     "text": [
      "Python 3.8.8\n"
     ]
    }
   ],
   "source": [
    "!python --version "
   ]
  },
  {
   "cell_type": "code",
   "execution_count": 93,
   "id": "5113fd99",
   "metadata": {},
   "outputs": [],
   "source": [
    "# !pip install nltk\n",
    "# !pip install beautifulsoup4 \n",
    "# !pip install contractions\n",
    "# !pip install Unidecode\n",
    "# !pip install textblob\n",
    "# !pip install pyspellchecker"
   ]
  },
  {
   "cell_type": "code",
   "execution_count": 94,
   "id": "a260badb",
   "metadata": {},
   "outputs": [
    {
     "data": {
      "text/plain": [
       "'C:\\\\Users\\\\sudip'"
      ]
     },
     "execution_count": 94,
     "metadata": {},
     "output_type": "execute_result"
    }
   ],
   "source": [
    "pwd"
   ]
  },
  {
   "cell_type": "code",
   "execution_count": 201,
   "id": "d80adadc",
   "metadata": {},
   "outputs": [
    {
     "name": "stderr",
     "output_type": "stream",
     "text": [
      "[nltk_data] Downloading package stopwords to\n",
      "[nltk_data]     C:\\Users\\sudip\\AppData\\Roaming\\nltk_data...\n",
      "[nltk_data]   Package stopwords is already up-to-date!\n",
      "[nltk_data] Downloading package wordnet to\n",
      "[nltk_data]     C:\\Users\\sudip\\AppData\\Roaming\\nltk_data...\n",
      "[nltk_data]   Package wordnet is already up-to-date!\n",
      "[nltk_data] Downloading package punkt to\n",
      "[nltk_data]     C:\\Users\\sudip\\AppData\\Roaming\\nltk_data...\n",
      "[nltk_data]   Package punkt is already up-to-date!\n"
     ]
    }
   ],
   "source": [
    "import pandas as pd\n",
    "import numpy as np\n",
    "import matplotlib.pyplot as plt\n",
    "import seaborn as sns\n",
    "import re\n",
    "import nltk\n",
    "from nltk.corpus import stopwords\n",
    "nltk.download('stopwords')\n",
    "from nltk.stem import PorterStemmer\n",
    "from nltk.stem import WordNetLemmatizer\n",
    "nltk.download('wordnet')\n",
    "from nltk.tokenize import word_tokenize\n",
    "from nltk.tokenize import sent_tokenize\n",
    "nltk.download('punkt')\n",
    "# from wordcloud import WordCloud\n",
    "from sklearn.feature_extraction.text import CountVectorizer\n",
    "from sklearn.feature_extraction.text import TfidfVectorizer\n",
    "from sklearn.model_selection import train_test_split\n",
    "from sklearn.metrics import accuracy_score\n",
    "from sklearn.metrics import confusion_matrix\n",
    "from sklearn.metrics import classification_report\n",
    "from sklearn.metrics import make_scorer, roc_curve, roc_auc_score\n",
    "from sklearn.metrics import precision_recall_fscore_support as score\n",
    "from sklearn.metrics.pairwise import cosine_similarity\n",
    "from sklearn.multiclass import OneVsRestClassifier\n",
    "from sklearn.linear_model import LogisticRegression\n",
    "from sklearn.svm import SVC, LinearSVC\n",
    "from sklearn.tree import DecisionTreeClassifier\n",
    "from sklearn.ensemble import RandomForestClassifier\n",
    "from sklearn.neighbors import KNeighborsClassifier\n",
    "from sklearn.naive_bayes import GaussianNB,MultinomialNB,BernoulliNB\n",
    "import matplotlib.pyplot as plt\n",
    "import numpy\n",
    "from sklearn import metrics"
   ]
  },
  {
   "cell_type": "code",
   "execution_count": 176,
   "id": "7d8e2b41",
   "metadata": {},
   "outputs": [
    {
     "name": "stderr",
     "output_type": "stream",
     "text": [
      "[nltk_data] Downloading package wordnet to\n",
      "[nltk_data]     C:\\Users\\sudip\\AppData\\Roaming\\nltk_data...\n",
      "[nltk_data]   Package wordnet is already up-to-date!\n"
     ]
    }
   ],
   "source": [
    "import pandas as pd\n",
    "import numpy as np\n",
    "import matplotlib.pyplot as plt\n",
    "import seaborn as sns\n",
    "import nltk\n",
    "nltk.download(\"wordnet\")\n",
    "from nltk.stem import WordNetLemmatizer\n",
    "from nltk.corpus import wordnet\n",
    "import string\n",
    "import re\n",
    "import contractions\n",
    "\n",
    "import nltk\n",
    "from nltk.corpus import stopwords\n",
    "from nltk.tokenize import word_tokenize\n",
    "from nltk.corpus import wordnet\n",
    "from nltk.stem import WordNetLemmatizer\n",
    "\n",
    "from bs4 import BeautifulSoup\n",
    "from textblob import TextBlob\n",
    "from unidecode import unidecode\n",
    "import contractions"
   ]
  },
  {
   "cell_type": "code",
   "execution_count": 96,
   "id": "06ff9839",
   "metadata": {},
   "outputs": [],
   "source": [
    "lemmatizer = WordNetLemmatizer()"
   ]
  },
  {
   "cell_type": "code",
   "execution_count": 97,
   "id": "1dda18f7",
   "metadata": {},
   "outputs": [],
   "source": [
    "dataset = pd.read_csv('flipitnews-data.csv')"
   ]
  },
  {
   "cell_type": "code",
   "execution_count": 98,
   "id": "e7b31af6",
   "metadata": {},
   "outputs": [
    {
     "data": {
      "text/plain": [
       "(2225, 2)"
      ]
     },
     "execution_count": 98,
     "metadata": {},
     "output_type": "execute_result"
    }
   ],
   "source": [
    "dataset.shape"
   ]
  },
  {
   "cell_type": "code",
   "execution_count": 99,
   "id": "b68f5d37",
   "metadata": {},
   "outputs": [
    {
     "data": {
      "text/html": [
       "<div>\n",
       "<style scoped>\n",
       "    .dataframe tbody tr th:only-of-type {\n",
       "        vertical-align: middle;\n",
       "    }\n",
       "\n",
       "    .dataframe tbody tr th {\n",
       "        vertical-align: top;\n",
       "    }\n",
       "\n",
       "    .dataframe thead th {\n",
       "        text-align: right;\n",
       "    }\n",
       "</style>\n",
       "<table border=\"1\" class=\"dataframe\">\n",
       "  <thead>\n",
       "    <tr style=\"text-align: right;\">\n",
       "      <th></th>\n",
       "      <th>Category</th>\n",
       "      <th>Article</th>\n",
       "    </tr>\n",
       "  </thead>\n",
       "  <tbody>\n",
       "    <tr>\n",
       "      <th>0</th>\n",
       "      <td>Technology</td>\n",
       "      <td>tv future in the hands of viewers with home th...</td>\n",
       "    </tr>\n",
       "    <tr>\n",
       "      <th>1</th>\n",
       "      <td>Business</td>\n",
       "      <td>worldcom boss  left books alone  former worldc...</td>\n",
       "    </tr>\n",
       "    <tr>\n",
       "      <th>2</th>\n",
       "      <td>Sports</td>\n",
       "      <td>tigers wary of farrell  gamble  leicester say ...</td>\n",
       "    </tr>\n",
       "    <tr>\n",
       "      <th>3</th>\n",
       "      <td>Sports</td>\n",
       "      <td>yeading face newcastle in fa cup premiership s...</td>\n",
       "    </tr>\n",
       "    <tr>\n",
       "      <th>4</th>\n",
       "      <td>Entertainment</td>\n",
       "      <td>ocean s twelve raids box office ocean s twelve...</td>\n",
       "    </tr>\n",
       "  </tbody>\n",
       "</table>\n",
       "</div>"
      ],
      "text/plain": [
       "        Category                                            Article\n",
       "0     Technology  tv future in the hands of viewers with home th...\n",
       "1       Business  worldcom boss  left books alone  former worldc...\n",
       "2         Sports  tigers wary of farrell  gamble  leicester say ...\n",
       "3         Sports  yeading face newcastle in fa cup premiership s...\n",
       "4  Entertainment  ocean s twelve raids box office ocean s twelve..."
      ]
     },
     "execution_count": 99,
     "metadata": {},
     "output_type": "execute_result"
    }
   ],
   "source": [
    "dataset.head(5)"
   ]
  },
  {
   "cell_type": "code",
   "execution_count": 100,
   "id": "7c500783",
   "metadata": {},
   "outputs": [
    {
     "name": "stdout",
     "output_type": "stream",
     "text": [
      "<class 'pandas.core.frame.DataFrame'>\n",
      "RangeIndex: 2225 entries, 0 to 2224\n",
      "Data columns (total 2 columns):\n",
      " #   Column    Non-Null Count  Dtype \n",
      "---  ------    --------------  ----- \n",
      " 0   Category  2225 non-null   object\n",
      " 1   Article   2225 non-null   object\n",
      "dtypes: object(2)\n",
      "memory usage: 34.9+ KB\n"
     ]
    }
   ],
   "source": [
    "dataset.info()"
   ]
  },
  {
   "cell_type": "code",
   "execution_count": 101,
   "id": "2e8b0acb",
   "metadata": {},
   "outputs": [
    {
     "data": {
      "text/plain": [
       "Sports           511\n",
       "Business         510\n",
       "Politics         417\n",
       "Technology       401\n",
       "Entertainment    386\n",
       "Name: Category, dtype: int64"
      ]
     },
     "execution_count": 101,
     "metadata": {},
     "output_type": "execute_result"
    }
   ],
   "source": [
    "dataset['Category'].value_counts()"
   ]
  },
  {
   "cell_type": "code",
   "execution_count": 102,
   "id": "290b3988",
   "metadata": {},
   "outputs": [
    {
     "name": "stdout",
     "output_type": "stream",
     "text": [
      "['Technology' 'Business' 'Sports' 'Entertainment' 'Politics']\n"
     ]
    }
   ],
   "source": [
    "target_category = dataset['Category'].unique()\n",
    "print(target_category)"
   ]
  },
  {
   "cell_type": "code",
   "execution_count": 103,
   "id": "0646b203",
   "metadata": {},
   "outputs": [
    {
     "data": {
      "text/html": [
       "<div>\n",
       "<style scoped>\n",
       "    .dataframe tbody tr th:only-of-type {\n",
       "        vertical-align: middle;\n",
       "    }\n",
       "\n",
       "    .dataframe tbody tr th {\n",
       "        vertical-align: top;\n",
       "    }\n",
       "\n",
       "    .dataframe thead th {\n",
       "        text-align: right;\n",
       "    }\n",
       "</style>\n",
       "<table border=\"1\" class=\"dataframe\">\n",
       "  <thead>\n",
       "    <tr style=\"text-align: right;\">\n",
       "      <th></th>\n",
       "      <th>Category</th>\n",
       "      <th>Article</th>\n",
       "      <th>CategoryId</th>\n",
       "    </tr>\n",
       "  </thead>\n",
       "  <tbody>\n",
       "    <tr>\n",
       "      <th>0</th>\n",
       "      <td>Technology</td>\n",
       "      <td>tv future in the hands of viewers with home th...</td>\n",
       "      <td>0</td>\n",
       "    </tr>\n",
       "    <tr>\n",
       "      <th>1</th>\n",
       "      <td>Business</td>\n",
       "      <td>worldcom boss  left books alone  former worldc...</td>\n",
       "      <td>1</td>\n",
       "    </tr>\n",
       "    <tr>\n",
       "      <th>2</th>\n",
       "      <td>Sports</td>\n",
       "      <td>tigers wary of farrell  gamble  leicester say ...</td>\n",
       "      <td>2</td>\n",
       "    </tr>\n",
       "    <tr>\n",
       "      <th>3</th>\n",
       "      <td>Sports</td>\n",
       "      <td>yeading face newcastle in fa cup premiership s...</td>\n",
       "      <td>2</td>\n",
       "    </tr>\n",
       "    <tr>\n",
       "      <th>4</th>\n",
       "      <td>Entertainment</td>\n",
       "      <td>ocean s twelve raids box office ocean s twelve...</td>\n",
       "      <td>3</td>\n",
       "    </tr>\n",
       "  </tbody>\n",
       "</table>\n",
       "</div>"
      ],
      "text/plain": [
       "        Category                                            Article  \\\n",
       "0     Technology  tv future in the hands of viewers with home th...   \n",
       "1       Business  worldcom boss  left books alone  former worldc...   \n",
       "2         Sports  tigers wary of farrell  gamble  leicester say ...   \n",
       "3         Sports  yeading face newcastle in fa cup premiership s...   \n",
       "4  Entertainment  ocean s twelve raids box office ocean s twelve...   \n",
       "\n",
       "   CategoryId  \n",
       "0           0  \n",
       "1           1  \n",
       "2           2  \n",
       "3           2  \n",
       "4           3  "
      ]
     },
     "execution_count": 103,
     "metadata": {},
     "output_type": "execute_result"
    }
   ],
   "source": [
    "dataset['CategoryId'] = dataset['Category'].factorize()[0]\n",
    "dataset.head()"
   ]
  },
  {
   "cell_type": "code",
   "execution_count": 104,
   "id": "5d431be1",
   "metadata": {},
   "outputs": [
    {
     "data": {
      "text/html": [
       "<div>\n",
       "<style scoped>\n",
       "    .dataframe tbody tr th:only-of-type {\n",
       "        vertical-align: middle;\n",
       "    }\n",
       "\n",
       "    .dataframe tbody tr th {\n",
       "        vertical-align: top;\n",
       "    }\n",
       "\n",
       "    .dataframe thead th {\n",
       "        text-align: right;\n",
       "    }\n",
       "</style>\n",
       "<table border=\"1\" class=\"dataframe\">\n",
       "  <thead>\n",
       "    <tr style=\"text-align: right;\">\n",
       "      <th></th>\n",
       "      <th>Category</th>\n",
       "      <th>CategoryId</th>\n",
       "    </tr>\n",
       "  </thead>\n",
       "  <tbody>\n",
       "    <tr>\n",
       "      <th>0</th>\n",
       "      <td>Technology</td>\n",
       "      <td>0</td>\n",
       "    </tr>\n",
       "    <tr>\n",
       "      <th>1</th>\n",
       "      <td>Business</td>\n",
       "      <td>1</td>\n",
       "    </tr>\n",
       "    <tr>\n",
       "      <th>2</th>\n",
       "      <td>Sports</td>\n",
       "      <td>2</td>\n",
       "    </tr>\n",
       "    <tr>\n",
       "      <th>4</th>\n",
       "      <td>Entertainment</td>\n",
       "      <td>3</td>\n",
       "    </tr>\n",
       "    <tr>\n",
       "      <th>5</th>\n",
       "      <td>Politics</td>\n",
       "      <td>4</td>\n",
       "    </tr>\n",
       "  </tbody>\n",
       "</table>\n",
       "</div>"
      ],
      "text/plain": [
       "        Category  CategoryId\n",
       "0     Technology           0\n",
       "1       Business           1\n",
       "2         Sports           2\n",
       "4  Entertainment           3\n",
       "5       Politics           4"
      ]
     },
     "execution_count": 104,
     "metadata": {},
     "output_type": "execute_result"
    }
   ],
   "source": [
    "category = dataset[['Category', 'CategoryId']].drop_duplicates().sort_values('CategoryId')\n",
    "category"
   ]
  },
  {
   "cell_type": "code",
   "execution_count": 105,
   "id": "36ef5e24",
   "metadata": {},
   "outputs": [
    {
     "data": {
      "image/png": "[encoded data removed]",
      "text/plain": [
       "<Figure size 432x288 with 1 Axes>"
      ]
     },
     "metadata": {
      "needs_background": "light"
     },
     "output_type": "display_data"
    }
   ],
   "source": [
    "dataset.groupby('Category').CategoryId.value_counts().plot(kind = \"bar\", color = [\"pink\", \"orange\", \"red\", \"yellow\", \"blue\"])\n",
    "plt.xlabel(\"Category of data\")\n",
    "plt.title(\"Visulaize numbers of Category of data\")\n",
    "plt.show()"
   ]
  },
  {
   "cell_type": "code",
   "execution_count": 106,
   "id": "a785b18f",
   "metadata": {},
   "outputs": [],
   "source": [
    "# !pip install contractions"
   ]
  },
  {
   "cell_type": "code",
   "execution_count": 107,
   "id": "ddfdfebd",
   "metadata": {},
   "outputs": [],
   "source": [
    "# import contractions\n",
    "# def deal_contractions(text):\n",
    "#     expanded_text = contractions.fix(text)\n",
    "#     return expanded_text"
   ]
  },
  {
   "cell_type": "code",
   "execution_count": 108,
   "id": "507f4edf",
   "metadata": {},
   "outputs": [],
   "source": [
    "# dataset['Article'] = dataset['Article'].apply(deal_contractions)"
   ]
  },
  {
   "cell_type": "markdown",
   "id": "818b32dd",
   "metadata": {},
   "source": [
    "## how to use contraction"
   ]
  },
  {
   "cell_type": "code",
   "execution_count": 117,
   "id": "cf2ec024",
   "metadata": {},
   "outputs": [],
   "source": []
  },
  {
   "cell_type": "code",
   "execution_count": 119,
   "id": "78e9276d",
   "metadata": {},
   "outputs": [],
   "source": [
    "def lemmatize_pos_tagged_text(text, lemmatizer, post_tag_dict):\n",
    "    sentences = nltk.sent_tokenize(text)\n",
    "    new_sentences = []\n",
    "\n",
    "    for sentence in sentences:\n",
    "        sentence = sentence.lower()\n",
    "        new_sentence_words = []\n",
    "        #one pos_tuple for sentence\n",
    "        pos_tuples = nltk.pos_tag(nltk.word_tokenize(sentence)) \n",
    "\n",
    "    for word_idx, word in enumerate(nltk.word_tokenize(sentence)):\n",
    "        nltk_word_pos = pos_tuples[word_idx][1]\n",
    "        wordnet_word_pos = pos_tag_dict.get(\n",
    "                          nltk_word_pos[0].upper(), None)\n",
    "        if wordnet_word_pos is not None:\n",
    "            new_word = lemmatizer.lemmatize(word, wordnet_word_pos)\n",
    "        else:\n",
    "            new_word = lemmatizer.lemmatize(word)\n",
    "\n",
    "        new_sentence_words.append(new_word)\n",
    "\n",
    "    new_sentence = \" \".join(new_sentence_words)\n",
    "    new_sentences.append(new_sentence)\n",
    "\n",
    "    return \" \".join(new_sentences)"
   ]
  },
  {
   "cell_type": "code",
   "execution_count": 129,
   "id": "335c3311",
   "metadata": {},
   "outputs": [],
   "source": [
    "def download_if_non_existent(res_path, res_name):\n",
    "    try:\n",
    "        nltk.data.find(res_path)\n",
    "    except LookupError:\n",
    "        print(f'resource {res_path} not found. Downloading now...')\n",
    "        nltk.download(res_name)"
   ]
  },
  {
   "cell_type": "code",
   "execution_count": 132,
   "id": "c1479843",
   "metadata": {},
   "outputs": [
    {
     "name": "stdout",
     "output_type": "stream",
     "text": [
      "resource corpora/wordnet not found. Downloading now...\n",
      "resource corpora/omw-1.4 not found. Downloading now...\n"
     ]
    },
    {
     "name": "stderr",
     "output_type": "stream",
     "text": [
      "[nltk_data] Downloading package wordnet to\n",
      "[nltk_data]     C:\\Users\\sudip\\AppData\\Roaming\\nltk_data...\n",
      "[nltk_data]   Package wordnet is already up-to-date!\n",
      "[nltk_data] Downloading package omw-1.4 to\n",
      "[nltk_data]     C:\\Users\\sudip\\AppData\\Roaming\\nltk_data...\n",
      "[nltk_data]   Package omw-1.4 is already up-to-date!\n"
     ]
    }
   ],
   "source": []
  },
  {
   "cell_type": "code",
   "execution_count": 177,
   "id": "ed6ee081",
   "metadata": {},
   "outputs": [],
   "source": [
    "class NltkPreprocessingSteps:\n",
    "    def __init__(self, X):\n",
    "        self.X = X\n",
    "        download_if_non_existent('corpora/stopwords', 'stopwords')\n",
    "        download_if_non_existent('tokenizers/punkt', 'punkt')\n",
    "        download_if_non_existent('taggers/averaged_perceptron_tagger',\n",
    "                                 'averaged_perceptron_tagger')\n",
    "        download_if_non_existent('corpora/wordnet', 'wordnet')\n",
    "        download_if_non_existent('corpora/omw-1.4', 'omw-1.4')\n",
    "        self.sw_nltk = stopwords.words('english')\n",
    "        new_stopwords = ['<*>']\n",
    "        self.sw_nltk.extend(new_stopwords)\n",
    "        self.sw_nltk.remove('not')\n",
    "        self.pos_tag_dict = {\"J\": wordnet.ADJ,\n",
    "                        \"N\": wordnet.NOUN,\n",
    "                        \"V\": wordnet.VERB,\n",
    "                        \"R\": wordnet.ADV}\n",
    "\n",
    "        # '!\"#$%&'()*+,-./:;<=>?@[\\]^_`{|}~' 32 punctuations in python\n",
    "        # we dont want to replace . first time around\n",
    "        self.remove_punctuations = string.punctuation.replace('.','')\n",
    "        \n",
    "\n",
    "    def deal_contractions(self):\n",
    "        print('in remove contractions')\n",
    "        self.X = self.X.apply(lambda x:contractions.fix(x))\n",
    "        return self\n",
    "\n",
    "    def remove_html_tags(self):\n",
    "            print('in remove_html_tags')\n",
    "            self.X = self.X.apply(\n",
    "                    lambda x: BeautifulSoup(x, 'html.parser').get_text())\n",
    "            return self\n",
    "\n",
    "    def replace_diacritics(self):\n",
    "            print('in replace_diacritics')\n",
    "            self.X = self.X.apply(\n",
    "                    lambda x: unidecode(x, errors=\"preserve\"))\n",
    "            return self\n",
    "    def to_lower(self):\n",
    "            print('in to_lower')\n",
    "            self.X = np.apply_along_axis(lambda x: x.lower(), self.X)\n",
    "            return self\n",
    "\n",
    "    def expand_contractions(self):\n",
    "            print('in expand_contractions')\n",
    "            self.X = self.X.apply(\n",
    "                    lambda x: \" \".join([contractions.fix(expanded_word) \n",
    "                                for expanded_word in x.split()]))\n",
    "            return self\n",
    "\n",
    "    def remove_numbers(self):\n",
    "            print('in remove_numbers')\n",
    "            self.X = self.X.apply(lambda x: re.sub(r'\\d+', '', x))\n",
    "            return self\n",
    "\n",
    "    def replace_dots_with_spaces(self):\n",
    "            print('in replace_dots_with_spaces')\n",
    "            self.X = self.X.apply(lambda x: re.sub(\"[.]\", \" \", x))\n",
    "            return self\n",
    "\n",
    "    def remove_punctuations_except_periods(self):\n",
    "            print('in remove_punctuations_except_periods')\n",
    "            self.X = self.X.apply(\n",
    "                         lambda x: re.sub('[%s]' %\n",
    "                          re.escape(self.remove_punctuations), '' , x))\n",
    "            return self\n",
    "\n",
    "    def remove_all_punctuations(self):\n",
    "            print('in remove_all_punctuations')\n",
    "            self.X = self.X.apply(lambda x: re.sub('[%s]' %\n",
    "                                  re.escape(string.punctuation), '' , x))\n",
    "            return self\n",
    "\n",
    "    def remove_double_spaces(self):\n",
    "            print('in remove_double_spaces')\n",
    "            self.X = self.X.apply(lambda x: re.sub(' +', ' ', x))\n",
    "            return self\n",
    "\n",
    "    def fix_typos(self):\n",
    "#             print('in fix_typos')\n",
    "#             self.X = self.X.apply(lambda x: str(TextBlob(x).correct()))\n",
    "            return self\n",
    "\n",
    "    def remove_stopwords(self):\n",
    "            print('in remove_stopwords')\n",
    "            # remove stop words from token list in each column\n",
    "            self.X = self.X.apply(\n",
    "                    lambda x: \" \".join([ word for word in x.split() \n",
    "                             if word not in self.sw_nltk]) )\n",
    "            return self\n",
    "\n",
    "    def lemmatize(self):\n",
    "            print('in lemmatize')\n",
    "            lemmatizer = WordNetLemmatizer()\n",
    "            self.X = self.X.apply(lambda x: lemmatize_pos_tagged_text(\n",
    "                                   x, lemmatizer, self.pos_tag_dict))\n",
    "            return self\n",
    "\n",
    "    def get_processed_text(self):\n",
    "            return self.X"
   ]
  },
  {
   "cell_type": "code",
   "execution_count": null,
   "id": "845a6862",
   "metadata": {},
   "outputs": [],
   "source": []
  },
  {
   "cell_type": "code",
   "execution_count": 178,
   "id": "3a557b29",
   "metadata": {},
   "outputs": [],
   "source": [
    "from sklearn.base import BaseEstimator, TransformerMixin\n",
    "class NltkTextPreprocessor(TransformerMixin, BaseEstimator):\n",
    "  def __init__(self):\n",
    "    pass\n",
    "\n",
    "  def fit(self, X):\n",
    "    return self\n",
    "\n",
    "  def transform(self, X):\n",
    "    txt_preproc = NltkPreprocessingSteps(X.copy())\n",
    "    processed_text = \\\n",
    "            txt_preproc \\\n",
    "            .deal_contractions()\\\n",
    "            .remove_html_tags()\\\n",
    "            .replace_diacritics()\\\n",
    "            .expand_contractions()\\\n",
    "            .remove_numbers()\\\n",
    "            .fix_typos()\\\n",
    "            .remove_punctuations_except_periods()\\\n",
    "            .lemmatize()\\\n",
    "            .remove_double_spaces()\\\n",
    "            .remove_all_punctuations()\\\n",
    "            .remove_stopwords()\\\n",
    "            .get_processed_text()\n",
    "\n",
    "    return processed_text"
   ]
  },
  {
   "cell_type": "code",
   "execution_count": 179,
   "id": "ea864fa6",
   "metadata": {},
   "outputs": [],
   "source": []
  },
  {
   "cell_type": "code",
   "execution_count": 189,
   "id": "886cb140",
   "metadata": {},
   "outputs": [
    {
     "name": "stdout",
     "output_type": "stream",
     "text": [
      "resource corpora/wordnet not found. Downloading now...\n",
      "resource corpora/omw-1.4 not found. Downloading now...\n",
      "in remove contractions\n"
     ]
    },
    {
     "name": "stderr",
     "output_type": "stream",
     "text": [
      "[nltk_data] Downloading package wordnet to\n",
      "[nltk_data]     C:\\Users\\sudip\\AppData\\Roaming\\nltk_data...\n",
      "[nltk_data]   Package wordnet is already up-to-date!\n",
      "[nltk_data] Downloading package omw-1.4 to\n",
      "[nltk_data]     C:\\Users\\sudip\\AppData\\Roaming\\nltk_data...\n",
      "[nltk_data]   Package omw-1.4 is already up-to-date!\n"
     ]
    },
    {
     "name": "stdout",
     "output_type": "stream",
     "text": [
      "in remove_html_tags\n",
      "in replace_diacritics\n",
      "in expand_contractions\n",
      "in remove_numbers\n",
      "in remove_punctuations_except_periods\n",
      "in lemmatize\n",
      "in remove_double_spaces\n",
      "in remove_all_punctuations\n",
      "in remove_stopwords\n",
      "resource corpora/wordnet not found. Downloading now...\n",
      "resource corpora/omw-1.4 not found. Downloading now...\n",
      "in remove contractions\n",
      "in remove_html_tags\n",
      "in replace_diacritics\n",
      "in expand_contractions\n"
     ]
    },
    {
     "name": "stderr",
     "output_type": "stream",
     "text": [
      "[nltk_data] Downloading package wordnet to\n",
      "[nltk_data]     C:\\Users\\sudip\\AppData\\Roaming\\nltk_data...\n",
      "[nltk_data]   Package wordnet is already up-to-date!\n",
      "[nltk_data] Downloading package omw-1.4 to\n",
      "[nltk_data]     C:\\Users\\sudip\\AppData\\Roaming\\nltk_data...\n",
      "[nltk_data]   Package omw-1.4 is already up-to-date!\n"
     ]
    },
    {
     "name": "stdout",
     "output_type": "stream",
     "text": [
      "in remove_numbers\n",
      "in remove_punctuations_except_periods\n",
      "in lemmatize\n",
      "in remove_double_spaces\n",
      "in remove_all_punctuations\n",
      "in remove_stopwords\n"
     ]
    }
   ],
   "source": [
    "from sklearn.model_selection import train_test_split\n",
    "from sklearn.pipeline import Pipeline\n",
    "from sklearn.feature_extraction.text import TfidfTransformer\n",
    "from sklearn.naive_bayes import BernoulliNB\n",
    "from sklearn.feature_extraction.text import TfidfVectorizer\n",
    "# X = pd.read_csv(\"....\")\n",
    "X_train, X_test, y_train, y_test = train_test_split(dataset['Article'], dataset['CategoryId'], random_state=0)\n",
    "pure_transformation_pipeline = Pipeline(steps=[\n",
    "           ('text_preproc', NltkTextPreprocessor())\n",
    "            ,('tfidf', TfidfVectorizer(use_idf=True))\n",
    "])\n",
    "# pure_transformation_pipeline.fit(X_train)\n",
    "# Call fit_transform if we only wanted to get transformed data\n",
    "X_train = pure_transformation_pipeline.fit_transform(X_train)\n",
    "X_test = pure_transformation_pipeline.transform(X_test)"
   ]
  },
  {
   "cell_type": "code",
   "execution_count": null,
   "id": "32435a5e",
   "metadata": {},
   "outputs": [],
   "source": [
    "# first_vector_tfidfvectorizer=tfidf_data[0] "
   ]
  },
  {
   "cell_type": "code",
   "execution_count": 190,
   "id": "8170dacb",
   "metadata": {},
   "outputs": [],
   "source": [
    "x_train, x_test, y_train, y_test = X_train, X_test, y_train, y_test"
   ]
  },
  {
   "cell_type": "code",
   "execution_count": 191,
   "id": "bc199f13",
   "metadata": {},
   "outputs": [],
   "source": [
    "# get the first vector out (for the first document) \n",
    "# first_vector_tfidfvectorizer=tfidf_data[0] \n",
    "# place tf-idf values in a pandas data frame \n",
    "# df = pd.DataFrame(first_vector_tfidfvectorizer.T.todense(), index=tfidf_vectorizer.get_feature_names(), columns=[\"tfidf\"]) \n",
    "# df.sort_values(by=[\"tfidf\"],ascending=False)\n",
    "# first_vector_tfidfvectorizer"
   ]
  },
  {
   "cell_type": "code",
   "execution_count": 192,
   "id": "c66a5654",
   "metadata": {},
   "outputs": [],
   "source": [
    "perform_list = [ ]"
   ]
  },
  {
   "cell_type": "code",
   "execution_count": 212,
   "id": "6445b6d5",
   "metadata": {},
   "outputs": [],
   "source": [
    "def run_model(model_name, est_c, est_pnlty):\n",
    "\tmdl=''\n",
    "\tif model_name == 'Logistic Regression':\n",
    "\t\tmdl = LogisticRegression()\n",
    "\telif model_name == 'Random Forest':\n",
    "\n",
    "\t\tmdl = RandomForestClassifier(n_estimators=100 ,criterion='entropy' , random_state=0)\n",
    "\n",
    "\telif model_name == 'Multinomial Naive Bayes':\n",
    "\n",
    "\t\tmdl = MultinomialNB(alpha=1.0,fit_prior=True)\n",
    "\n",
    "\telif model_name == 'Support Vector Classifer':\n",
    "\n",
    "\t\tmdl = SVC()\n",
    "\n",
    "\telif model_name == 'Decision Tree Classifier':\n",
    "\n",
    "\t\tmdl = DecisionTreeClassifier()\n",
    "\n",
    "\telif model_name == 'K Nearest Neighbour':\n",
    "\n",
    "\t\tmdl = KNeighborsClassifier(n_neighbors=10 , metric= 'cosine' , p = 4)\n",
    "\t\n",
    "\telif model_name == 'Gaussian Naive Bayes':\n",
    "\t\tmdl = GaussianNB()\n",
    "\t\n",
    "\toneVsRest = OneVsRestClassifier(mdl)\n",
    "\toneVsRest.fit(x_train, y_train)\n",
    "\ty_pred = oneVsRest.predict(x_test)\n",
    "\tconfusion_matrix = metrics.confusion_matrix(y_test, y_pred)\n",
    "\tcm_display = metrics.ConfusionMatrixDisplay(confusion_matrix = confusion_matrix)\n",
    "\tcm_display.plot()\n",
    "\tplt.show()\n",
    "\t# Performance metrics\n",
    "\taccuracy = round(accuracy_score(y_test, y_pred) * 100, 2)\n",
    "\t# Get precision, recall, f1 scores\n",
    "\tprecision, recall, f1score, support = score(y_test, y_pred, average='micro')\n",
    "\tprint(f'Test Accuracy Score of Basic {model_name}: % {accuracy}')\n",
    "\tprint(f'Precision : {precision}')\n",
    "\tprint(f'Recall : {recall}')\n",
    "\tprint(f'F1-score : {f1score}')\n",
    "\t# Add performance parameters to list\n",
    "\tperform_list.append(dict([\n",
    "\t('Model', model_name),\n",
    "\t('Test Accuracy', round(accuracy, 2)),\n",
    "\t('Precision', round(precision, 2)),\n",
    "\t('Recall', round(recall, 2)),\n",
    "\t('F1', round(f1score, 2))\n",
    "\t]))"
   ]
  },
  {
   "cell_type": "code",
   "execution_count": null,
   "id": "a91eb103",
   "metadata": {},
   "outputs": [],
   "source": []
  },
  {
   "cell_type": "code",
   "execution_count": 213,
   "id": "53b2f53b",
   "metadata": {},
   "outputs": [
    {
     "data": {
      "image/png": "[encoded data removed]",
      "text/plain": [
       "<Figure size 432x288 with 2 Axes>"
      ]
     },
     "metadata": {
      "needs_background": "light"
     },
     "output_type": "display_data"
    },
    {
     "name": "stdout",
     "output_type": "stream",
     "text": [
      "Test Accuracy Score of Basic Logistic Regression: % 98.03\n",
      "Precision : 0.9802513464991023\n",
      "Recall : 0.9802513464991023\n",
      "F1-score : 0.9802513464991023\n"
     ]
    },
    {
     "data": {
      "image/png": "[encoded data removed]",
      "text/plain": [
       "<Figure size 432x288 with 2 Axes>"
      ]
     },
     "metadata": {
      "needs_background": "light"
     },
     "output_type": "display_data"
    },
    {
     "name": "stdout",
     "output_type": "stream",
     "text": [
      "Test Accuracy Score of Basic Random Forest: % 97.85\n",
      "Precision : 0.9784560143626571\n",
      "Recall : 0.9784560143626571\n",
      "F1-score : 0.9784560143626571\n"
     ]
    },
    {
     "data": {
      "image/png": "[encoded data removed]",
      "text/plain": [
       "<Figure size 432x288 with 2 Axes>"
      ]
     },
     "metadata": {
      "needs_background": "light"
     },
     "output_type": "display_data"
    },
    {
     "name": "stdout",
     "output_type": "stream",
     "text": [
      "Test Accuracy Score of Basic Multinomial Naive Bayes: % 97.85\n",
      "Precision : 0.9784560143626571\n",
      "Recall : 0.9784560143626571\n",
      "F1-score : 0.9784560143626571\n"
     ]
    },
    {
     "data": {
      "image/png": "[encoded data removed]",
      "text/plain": [
       "<Figure size 432x288 with 2 Axes>"
      ]
     },
     "metadata": {
      "needs_background": "light"
     },
     "output_type": "display_data"
    },
    {
     "name": "stdout",
     "output_type": "stream",
     "text": [
      "Test Accuracy Score of Basic Support Vector Classifer: % 98.2\n",
      "Precision : 0.9820466786355476\n",
      "Recall : 0.9820466786355476\n",
      "F1-score : 0.9820466786355476\n"
     ]
    },
    {
     "data": {
      "image/png": "[encoded data removed]",
      "text/plain": [
       "<Figure size 432x288 with 2 Axes>"
      ]
     },
     "metadata": {
      "needs_background": "light"
     },
     "output_type": "display_data"
    },
    {
     "name": "stdout",
     "output_type": "stream",
     "text": [
      "Test Accuracy Score of Basic Decision Tree Classifier: % 82.59\n",
      "Precision : 0.8258527827648114\n",
      "Recall : 0.8258527827648114\n",
      "F1-score : 0.8258527827648114\n"
     ]
    },
    {
     "data": {
      "image/png": "[encoded data removed]",
      "text/plain": [
       "<Figure size 432x288 with 2 Axes>"
      ]
     },
     "metadata": {
      "needs_background": "light"
     },
     "output_type": "display_data"
    },
    {
     "name": "stdout",
     "output_type": "stream",
     "text": [
      "Test Accuracy Score of Basic K Nearest Neighbour: % 95.69\n",
      "Precision : 0.9569120287253142\n",
      "Recall : 0.9569120287253142\n",
      "F1-score : 0.9569120287253142\n"
     ]
    }
   ],
   "source": [
    "run_model('Logistic Regression', est_c=None, est_pnlty=None)\n",
    "run_model('Random Forest', est_c=None, est_pnlty=None)\n",
    "run_model('Multinomial Naive Bayes', est_c=None, est_pnlty=None)\n",
    "run_model('Support Vector Classifer', est_c=None, est_pnlty=None)\n",
    "run_model('Decision Tree Classifier', est_c=None, est_pnlty=None)\n",
    "run_model('K Nearest Neighbour', est_c=None, est_pnlty=None)\n",
    "# run_model('Gaussian Naive Bayes', est_c=None, est_pnlty=None)"
   ]
  },
  {
   "cell_type": "code",
   "execution_count": null,
   "id": "ebcbf107",
   "metadata": {},
   "outputs": [],
   "source": [
    "y_test = y_test.tolist()"
   ]
  },
  {
   "cell_type": "code",
   "execution_count": 220,
   "id": "feeb75cd",
   "metadata": {},
   "outputs": [
    {
     "data": {
      "text/plain": [
       "LogisticRegression()"
      ]
     },
     "execution_count": 220,
     "metadata": {},
     "output_type": "execute_result"
    }
   ],
   "source": [
    "mdl = LogisticRegression()\n",
    "mdl.fit(x_train,y_train)"
   ]
  },
  {
   "cell_type": "code",
   "execution_count": 239,
   "id": "4acdf6c5",
   "metadata": {},
   "outputs": [],
   "source": [
    "prediction = mdl.predict(x_test[114])"
   ]
  },
  {
   "cell_type": "code",
   "execution_count": 240,
   "id": "2e8d0dc8",
   "metadata": {},
   "outputs": [
    {
     "data": {
      "text/plain": [
       "array([2], dtype=int64)"
      ]
     },
     "execution_count": 240,
     "metadata": {},
     "output_type": "execute_result"
    }
   ],
   "source": [
    "prediction"
   ]
  },
  {
   "cell_type": "code",
   "execution_count": 243,
   "id": "3a626046",
   "metadata": {},
   "outputs": [],
   "source": []
  },
  {
   "cell_type": "code",
   "execution_count": 242,
   "id": "7b4acfb0",
   "metadata": {},
   "outputs": [
    {
     "data": {
      "text/plain": [
       "2"
      ]
     },
     "execution_count": 242,
     "metadata": {},
     "output_type": "execute_result"
    }
   ],
   "source": [
    "y_test[114]"
   ]
  },
  {
   "cell_type": "markdown",
   "id": "c6b20a54",
   "metadata": {},
   "source": [
    "### Questions "
   ]
  },
  {
   "cell_type": "markdown",
   "id": "4cbea107",
   "metadata": {},
   "source": [
    "##### How many news articles are present in the dataset that we have?"
   ]
  },
  {
   "cell_type": "code",
   "execution_count": 247,
   "id": "c96bf91d",
   "metadata": {},
   "outputs": [
    {
     "data": {
      "text/plain": [
       "2225"
      ]
     },
     "execution_count": 247,
     "metadata": {},
     "output_type": "execute_result"
    }
   ],
   "source": [
    "dataset.shape[0]"
   ]
  },
  {
   "cell_type": "markdown",
   "id": "392abd61",
   "metadata": {},
   "source": [
    "##### Most of the news articles are from _____ category."
   ]
  },
  {
   "cell_type": "code",
   "execution_count": 252,
   "id": "90da98ac",
   "metadata": {},
   "outputs": [
    {
     "data": {
      "text/plain": [
       "'Sports'"
      ]
     },
     "execution_count": 252,
     "metadata": {},
     "output_type": "execute_result"
    }
   ],
   "source": [
    "dataset['Category'].value_counts().idxmax()"
   ]
  },
  {
   "cell_type": "code",
   "execution_count": 253,
   "id": "69663c70",
   "metadata": {},
   "outputs": [
    {
     "data": {
      "text/plain": [
       "511"
      ]
     },
     "execution_count": 253,
     "metadata": {},
     "output_type": "execute_result"
    }
   ],
   "source": [
    "dataset['Category'].value_counts().max()"
   ]
  },
  {
   "cell_type": "code",
   "execution_count": 254,
   "id": "88eb3d8f",
   "metadata": {},
   "outputs": [
    {
     "data": {
      "text/plain": [
       "Sports           511\n",
       "Business         510\n",
       "Politics         417\n",
       "Technology       401\n",
       "Entertainment    386\n",
       "Name: Category, dtype: int64"
      ]
     },
     "execution_count": 254,
     "metadata": {},
     "output_type": "execute_result"
    }
   ],
   "source": [
    "dataset['Category'].value_counts()"
   ]
  },
  {
   "cell_type": "markdown",
   "id": "89640122",
   "metadata": {},
   "source": [
    "#### Only ___ no. of articles belong to the ‘Technology’ category."
   ]
  },
  {
   "cell_type": "code",
   "execution_count": 255,
   "id": "854f1fd9",
   "metadata": {},
   "outputs": [
    {
     "data": {
      "text/plain": [
       "401"
      ]
     },
     "execution_count": 255,
     "metadata": {},
     "output_type": "execute_result"
    }
   ],
   "source": [
    "dataset['Category'].value_counts()['Technology']"
   ]
  },
  {
   "cell_type": "markdown",
   "id": "fb8bde28",
   "metadata": {},
   "source": [
    "### Why we should remove stop words ?\n",
    "\n",
    "They provide no meaningful information, especially if we are building a text classification model. Therefore, we have to remove stopwords from our dataset.\n",
    "As the frequency of stop words are too high, removing them from the corpus results in much smaller data in terms of size. Reduced size results in faster computations on text data and the text classification model need to deal with a lesser number of features resulting in a robust model."
   ]
  },
  {
   "cell_type": "markdown",
   "id": "e142f643",
   "metadata": {},
   "source": [
    "### Explain the difference between Stemming and Lemmatization."
   ]
  },
  {
   "cell_type": "markdown",
   "id": "2fd848ff",
   "metadata": {},
   "source": [
    "Stemming is a process that stems or removes last few characters from a word, often leading to incorrect meanings and spelling.\t\n",
    "For instance, lemmatizing the word ‘Caring‘ would return ‘Care‘.\n",
    "Stemming is used in case of large dataset where performance is an issue.\n",
    "\n",
    "Lemmatization considers the context and converts the word to its meaningful base form, which is called Lemma.\n",
    "For instance, stemming the word ‘Caring‘ would return ‘Care‘.\n",
    "Lemmatization is computationally expensive since it involves look-up tables and what not."
   ]
  },
  {
   "cell_type": "markdown",
   "id": "faeef3fe",
   "metadata": {},
   "source": [
    "### Which of the techniques Bag of Words or TF-IDF is considered to be more efficient than the other?"
   ]
  },
  {
   "cell_type": "markdown",
   "id": "54c5f1ff",
   "metadata": {},
   "source": [
    "An issue with the bag-of-word approach is that it loses the semantic meaning of the words. For instance, not bad semantically means decent or even good. But both the words not and bad bring negative sentiment when considered alone.\n",
    "\n",
    "There are other approaches like Bag-of-n-Grams, which uses bigram, trigram to capture the words that occur often together. But this leads to an increase in feature space.\n",
    "\n",
    "In TF-IDF log transform tends to zero out all words that appear in all documents. It effectively means that the word is removed from the feature space.\n",
    "Thus, Tf-idf makes rare words more prominent and effectively ignores common words."
   ]
  },
  {
   "cell_type": "markdown",
   "id": "dc6e9b52",
   "metadata": {},
   "source": [
    "#### What’s the shape of train & test data sets after performing a 75:25 split."
   ]
  },
  {
   "cell_type": "code",
   "execution_count": 256,
   "id": "31ba0a66",
   "metadata": {},
   "outputs": [],
   "source": [
    "X_train, X_test, y_train, y_test = train_test_split(dataset['Article'], dataset['CategoryId'], random_state=0)"
   ]
  },
  {
   "cell_type": "code",
   "execution_count": 257,
   "id": "f4a1e85e",
   "metadata": {},
   "outputs": [
    {
     "data": {
      "text/plain": [
       "(1668,)"
      ]
     },
     "execution_count": 257,
     "metadata": {},
     "output_type": "execute_result"
    }
   ],
   "source": [
    "X_train.shape"
   ]
  },
  {
   "cell_type": "code",
   "execution_count": 258,
   "id": "128c883c",
   "metadata": {},
   "outputs": [
    {
     "data": {
      "text/plain": [
       "(557,)"
      ]
     },
     "execution_count": 258,
     "metadata": {},
     "output_type": "execute_result"
    }
   ],
   "source": [
    "X_test.shape"
   ]
  },
  {
   "cell_type": "markdown",
   "id": "2018175f",
   "metadata": {},
   "source": [
    "#### Which of the following is found to be the best performing model..\n",
    "\n",
    "#### a. Random Forest <br/>b. Nearest Neighbors <br/>c. Naive Bayes"
   ]
  },
  {
   "cell_type": "markdown",
   "id": "9d400973",
   "metadata": {},
   "source": [
    "Test Accuracy Score of Basic Random Forest: % 97.85 <br/>\n",
    "Precision : 0.9784560143626571 <br/>\n",
    "Recall : 0.9784560143626571 <br/>\n",
    "F1-score : 0.9784560143626571 <br/>\n",
    "\n",
    "Test Accuracy Score of Basic Multinomial Naive Bayes: % 97.85 <br/>\n",
    "Precision : 0.9784560143626571 <br/>\n",
    "Recall : 0.9784560143626571 <br/>\n",
    "F1-score : 0.9784560143626571 <br/>\n",
    "\n",
    "Test Accuracy Score of Basic K Nearest Neighbour: % 95.69 <br/>\n",
    "Precision : 0.9569120287253142 <br/>\n",
    "Recall : 0.9569120287253142 <br/>\n",
    "F1-score : 0.9569120287253142 <br/> \n"
   ]
  },
  {
   "cell_type": "markdown",
   "id": "4bae8a7c",
   "metadata": {},
   "source": [
    "### According to this particular use case, both precision and recall are equally important. (T/F)"
   ]
  },
  {
   "cell_type": "markdown",
   "id": "335cb0d0",
   "metadata": {},
   "source": [
    "False <br/>\n",
    "For rare cancer data modeling, anything that doesn't account for false-negatives is a crime. Recall is a better measure than precision.<br/>\n",
    "For YouTube recommendations, false-negatives is less of a concern. Precision is better here."
   ]
  },
  {
   "cell_type": "code",
   "execution_count": null,
   "id": "4712101b",
   "metadata": {},
   "outputs": [],
   "source": []
  }
 ],
 "metadata": {
  "kernelspec": {
   "display_name": "Python 3",
   "language": "python",
   "name": "python3"
  },
  "language_info": {
   "codemirror_mode": {
    "name": "ipython",
    "version": 3
   },
   "file_extension": ".py",
   "mimetype": "text/x-python",
   "name": "python",
   "nbconvert_exporter": "python",
   "pygments_lexer": "ipython3",
   "version": "3.8.8"
  }
 },
 "nbformat": 4,
 "nbformat_minor": 5
}
